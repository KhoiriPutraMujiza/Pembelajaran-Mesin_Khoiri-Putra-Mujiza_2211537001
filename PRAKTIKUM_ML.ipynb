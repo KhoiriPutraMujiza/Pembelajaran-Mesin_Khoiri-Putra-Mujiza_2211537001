{
  "nbformat": 4,
  "nbformat_minor": 0,
  "metadata": {
    "colab": {
      "provenance": [],
      "authorship_tag": "ABX9TyNUxaDSonXuLfiIiQTwgSoy",
      "include_colab_link": true
    },
    "kernelspec": {
      "name": "python3",
      "display_name": "Python 3"
    },
    "language_info": {
      "name": "python"
    }
  },
  "cells": [
    {
      "cell_type": "markdown",
      "metadata": {
        "id": "view-in-github",
        "colab_type": "text"
      },
      "source": [
        "<a href=\"https://colab.research.google.com/github/KhoiriPutraMujiza/Pembelajaran-Mesin_Khoiri-Putra-Mujiza_2211537001/blob/main/PRAKTIKUM_ML.ipynb\" target=\"_parent\"><img src=\"https://colab.research.google.com/assets/colab-badge.svg\" alt=\"Open In Colab\"/></a>"
      ]
    },
    {
      "cell_type": "code",
      "execution_count": null,
      "metadata": {
        "id": "PrwZlucI6nca"
      },
      "outputs": [],
      "source": [
        "# Packages untuk analysis\n",
        "import pandas as pd\n",
        "import numpy as np\n",
        "from sklearn import svm\n",
        "\n",
        "#Packages untuk visuals\n",
        "import matplotlib.pyplot as plt\n",
        "import seaborn as sns; sns.set(font_scale=1.2)\n",
        "\n",
        "#Tampilkan chart\n",
        "%matplotlib inline\n",
        "\n",
        "#Package pickle\n",
        "import pickle"
      ]
    }
  ]
}